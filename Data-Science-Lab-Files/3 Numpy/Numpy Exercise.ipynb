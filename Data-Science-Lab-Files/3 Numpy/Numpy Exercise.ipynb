{
 "cells": [
  {
   "cell_type": "markdown",
   "id": "e05dfb42",
   "metadata": {},
   "source": [
    "# Numpy Excersice"
   ]
  },
  {
   "cell_type": "markdown",
   "id": "d430c5bd",
   "metadata": {},
   "source": [
    "#### Import Numpy as np"
   ]
  },
  {
   "cell_type": "code",
   "execution_count": 59,
   "id": "708f7dd5",
   "metadata": {},
   "outputs": [],
   "source": [
    "import numpy as np"
   ]
  },
  {
   "cell_type": "markdown",
   "id": "2db1ac1f",
   "metadata": {},
   "source": [
    "#### Create an array of 10 zeros:"
   ]
  },
  {
   "cell_type": "code",
   "execution_count": 60,
   "id": "407cd44d",
   "metadata": {},
   "outputs": [
    {
     "data": {
      "text/plain": [
       "array([0., 0., 0., 0., 0., 0., 0., 0., 0., 0.])"
      ]
     },
     "execution_count": 60,
     "metadata": {},
     "output_type": "execute_result"
    }
   ],
   "source": [
    "np.zeros(10)"
   ]
  },
  {
   "cell_type": "markdown",
   "id": "546df568",
   "metadata": {},
   "source": [
    "#### Create an array of 10 ones"
   ]
  },
  {
   "cell_type": "code",
   "execution_count": 61,
   "id": "f26579be",
   "metadata": {},
   "outputs": [
    {
     "data": {
      "text/plain": [
       "array([1., 1., 1., 1., 1., 1., 1., 1., 1., 1.])"
      ]
     },
     "execution_count": 61,
     "metadata": {},
     "output_type": "execute_result"
    }
   ],
   "source": [
    "np.ones(10)"
   ]
  },
  {
   "cell_type": "markdown",
   "id": "e71f1fd5",
   "metadata": {},
   "source": [
    "#### Create an array of 10 fives."
   ]
  },
  {
   "cell_type": "code",
   "execution_count": 62,
   "id": "09b33920",
   "metadata": {},
   "outputs": [
    {
     "data": {
      "text/plain": [
       "array([5., 5., 5., 5., 5., 5., 5., 5., 5., 5.])"
      ]
     },
     "execution_count": 62,
     "metadata": {},
     "output_type": "execute_result"
    }
   ],
   "source": [
    "np.ones(10)*5"
   ]
  },
  {
   "cell_type": "markdown",
   "id": "87b95aae",
   "metadata": {},
   "source": [
    "#### Create an array of the integers from 10 to 50"
   ]
  },
  {
   "cell_type": "code",
   "execution_count": 63,
   "id": "1923539c",
   "metadata": {},
   "outputs": [
    {
     "data": {
      "text/plain": [
       "array([10, 11, 12, 13, 14, 15, 16, 17, 18, 19, 20, 21, 22, 23, 24, 25, 26,\n",
       "       27, 28, 29, 30, 31, 32, 33, 34, 35, 36, 37, 38, 39, 40, 41, 42, 43,\n",
       "       44, 45, 46, 47, 48, 49, 50])"
      ]
     },
     "execution_count": 63,
     "metadata": {},
     "output_type": "execute_result"
    }
   ],
   "source": [
    "np.arange(10,51)"
   ]
  },
  {
   "cell_type": "markdown",
   "id": "d8ac8ec5",
   "metadata": {},
   "source": [
    "#### Create an array of all even integers from 10 to 50"
   ]
  },
  {
   "cell_type": "code",
   "execution_count": 64,
   "id": "d913901a",
   "metadata": {},
   "outputs": [
    {
     "data": {
      "text/plain": [
       "array([10, 12, 14, 16, 18, 20, 22, 24, 26, 28, 30, 32, 34, 36, 38, 40, 42,\n",
       "       44, 46, 48, 50])"
      ]
     },
     "execution_count": 64,
     "metadata": {},
     "output_type": "execute_result"
    }
   ],
   "source": [
    "np.arange(10,51,2)"
   ]
  },
  {
   "cell_type": "markdown",
   "id": "c324aa7c",
   "metadata": {},
   "source": [
    "#### Create a 3x3 matrix with values ranging from 0 to 8"
   ]
  },
  {
   "cell_type": "code",
   "execution_count": 65,
   "id": "56d1b9a2",
   "metadata": {},
   "outputs": [
    {
     "data": {
      "text/plain": [
       "array([[0, 1, 2],\n",
       "       [3, 4, 5],\n",
       "       [6, 7, 8]])"
      ]
     },
     "execution_count": 65,
     "metadata": {},
     "output_type": "execute_result"
    }
   ],
   "source": [
    "np.arange(0,9).reshape(3,3)"
   ]
  },
  {
   "cell_type": "markdown",
   "id": "5edfb9fb",
   "metadata": {},
   "source": [
    "#### Create a 3x3 identity matrix"
   ]
  },
  {
   "cell_type": "code",
   "execution_count": 66,
   "id": "99540208",
   "metadata": {},
   "outputs": [
    {
     "data": {
      "text/plain": [
       "array([[1., 0., 0.],\n",
       "       [0., 1., 0.],\n",
       "       [0., 0., 1.]])"
      ]
     },
     "execution_count": 66,
     "metadata": {},
     "output_type": "execute_result"
    }
   ],
   "source": [
    "np.eye(3)"
   ]
  },
  {
   "cell_type": "markdown",
   "id": "f752b320",
   "metadata": {},
   "source": [
    "#### Use Numpy to generate random numbers between 0 to 1"
   ]
  },
  {
   "cell_type": "code",
   "execution_count": 67,
   "id": "26ca591b",
   "metadata": {},
   "outputs": [
    {
     "data": {
      "text/plain": [
       "array([0.76643707])"
      ]
     },
     "execution_count": 67,
     "metadata": {},
     "output_type": "execute_result"
    }
   ],
   "source": [
    "np.random.rand(1)"
   ]
  },
  {
   "cell_type": "markdown",
   "id": "7e8b2e84",
   "metadata": {},
   "source": [
    "#### Use Numpy to generate an array of 25 random numbers sampled fom a standard normal distribution"
   ]
  },
  {
   "cell_type": "code",
   "execution_count": 68,
   "id": "b737a064",
   "metadata": {},
   "outputs": [
    {
     "data": {
      "text/plain": [
       "array([-0.80266833, -0.49550117, -0.21057264,  0.16329621, -1.76584486,\n",
       "        2.41501713, -0.57569045,  2.46775884,  0.20909075,  0.89511664,\n",
       "       -0.44833554, -1.03262063,  0.89061539, -0.42890436, -0.91107743,\n",
       "        0.21802164,  0.29886174, -1.00883593, -1.68141067, -1.4356089 ,\n",
       "        0.47503979,  0.67603174, -0.69589648, -1.02785652,  0.40731822])"
      ]
     },
     "execution_count": 68,
     "metadata": {},
     "output_type": "execute_result"
    }
   ],
   "source": [
    "np.random.randn(25)"
   ]
  },
  {
   "cell_type": "markdown",
   "id": "93301c3a",
   "metadata": {},
   "source": [
    "#### Create the following matrix"
   ]
  },
  {
   "cell_type": "code",
   "execution_count": 69,
   "id": "caa5808d",
   "metadata": {},
   "outputs": [
    {
     "data": {
      "text/plain": [
       "array([0.01, 0.02, 0.03, 0.04, 0.05, 0.06, 0.07, 0.08, 0.09, 0.1 , 0.11,\n",
       "       0.12, 0.13, 0.14, 0.15, 0.16, 0.17, 0.18, 0.19, 0.2 , 0.21, 0.22,\n",
       "       0.23, 0.24, 0.25, 0.26, 0.27, 0.28, 0.29, 0.3 , 0.31, 0.32, 0.33,\n",
       "       0.34, 0.35, 0.36, 0.37, 0.38, 0.39, 0.4 , 0.41, 0.42, 0.43, 0.44,\n",
       "       0.45, 0.46, 0.47, 0.48, 0.49, 0.5 , 0.51, 0.52, 0.53, 0.54, 0.55,\n",
       "       0.56, 0.57, 0.58, 0.59, 0.6 , 0.61, 0.62, 0.63, 0.64, 0.65, 0.66,\n",
       "       0.67, 0.68, 0.69, 0.7 , 0.71, 0.72, 0.73, 0.74, 0.75, 0.76, 0.77,\n",
       "       0.78, 0.79, 0.8 , 0.81, 0.82, 0.83, 0.84, 0.85, 0.86, 0.87, 0.88,\n",
       "       0.89, 0.9 , 0.91, 0.92, 0.93, 0.94, 0.95, 0.96, 0.97, 0.98, 0.99,\n",
       "       1.  ])"
      ]
     },
     "execution_count": 69,
     "metadata": {},
     "output_type": "execute_result"
    }
   ],
   "source": [
    "np.linspace(0.01,1,100)"
   ]
  },
  {
   "cell_type": "code",
   "execution_count": 70,
   "id": "f1648d1f",
   "metadata": {},
   "outputs": [
    {
     "data": {
      "text/plain": [
       "array([0.01, 0.02, 0.03, 0.04, 0.05, 0.06, 0.07, 0.08, 0.09, 0.1 , 0.11,\n",
       "       0.12, 0.13, 0.14, 0.15, 0.16, 0.17, 0.18, 0.19, 0.2 , 0.21, 0.22,\n",
       "       0.23, 0.24, 0.25, 0.26, 0.27, 0.28, 0.29, 0.3 , 0.31, 0.32, 0.33,\n",
       "       0.34, 0.35, 0.36, 0.37, 0.38, 0.39, 0.4 , 0.41, 0.42, 0.43, 0.44,\n",
       "       0.45, 0.46, 0.47, 0.48, 0.49, 0.5 , 0.51, 0.52, 0.53, 0.54, 0.55,\n",
       "       0.56, 0.57, 0.58, 0.59, 0.6 , 0.61, 0.62, 0.63, 0.64, 0.65, 0.66,\n",
       "       0.67, 0.68, 0.69, 0.7 , 0.71, 0.72, 0.73, 0.74, 0.75, 0.76, 0.77,\n",
       "       0.78, 0.79, 0.8 , 0.81, 0.82, 0.83, 0.84, 0.85, 0.86, 0.87, 0.88,\n",
       "       0.89, 0.9 , 0.91, 0.92, 0.93, 0.94, 0.95, 0.96, 0.97, 0.98, 0.99,\n",
       "       1.  ])"
      ]
     },
     "execution_count": 70,
     "metadata": {},
     "output_type": "execute_result"
    }
   ],
   "source": [
    "np.arange(1,101)/100"
   ]
  },
  {
   "cell_type": "markdown",
   "id": "6f4ca9d2",
   "metadata": {},
   "source": [
    "#### Create an array of 20 linearly spaced points between 0 and 1:"
   ]
  },
  {
   "cell_type": "code",
   "execution_count": 71,
   "id": "2e2d356f",
   "metadata": {},
   "outputs": [
    {
     "data": {
      "text/plain": [
       "array([0.        , 0.05263158, 0.10526316, 0.15789474, 0.21052632,\n",
       "       0.26315789, 0.31578947, 0.36842105, 0.42105263, 0.47368421,\n",
       "       0.52631579, 0.57894737, 0.63157895, 0.68421053, 0.73684211,\n",
       "       0.78947368, 0.84210526, 0.89473684, 0.94736842, 1.        ])"
      ]
     },
     "execution_count": 71,
     "metadata": {},
     "output_type": "execute_result"
    }
   ],
   "source": [
    "np.linspace(0,1,20)"
   ]
  },
  {
   "cell_type": "markdown",
   "id": "f68d3de1",
   "metadata": {},
   "source": [
    "# Numpy Indexing and Selection"
   ]
  },
  {
   "cell_type": "markdown",
   "id": "c6946246",
   "metadata": {},
   "source": [
    "#### Create a matric of 5x5 with elements ranging from 1 to 25"
   ]
  },
  {
   "cell_type": "code",
   "execution_count": 72,
   "id": "4991a9b4",
   "metadata": {},
   "outputs": [
    {
     "name": "stdout",
     "output_type": "stream",
     "text": [
      "[[ 1  2  3  4  5]\n",
      " [ 6  7  8  9 10]\n",
      " [11 12 13 14 15]\n",
      " [16 17 18 19 20]\n",
      " [21 22 23 24 25]]\n"
     ]
    }
   ],
   "source": [
    "arr = np.arange(1,26).reshape(5,5)\n",
    "print(arr)"
   ]
  },
  {
   "cell_type": "markdown",
   "id": "39ef14c3",
   "metadata": {},
   "source": [
    "#### Create a matrix using indexing"
   ]
  },
  {
   "cell_type": "code",
   "execution_count": 73,
   "id": "c5396153",
   "metadata": {},
   "outputs": [
    {
     "data": {
      "text/plain": [
       "array([[12, 13, 14, 15],\n",
       "       [17, 18, 19, 20],\n",
       "       [22, 23, 24, 25]])"
      ]
     },
     "execution_count": 73,
     "metadata": {},
     "output_type": "execute_result"
    }
   ],
   "source": [
    "arr[2:,1:]"
   ]
  },
  {
   "cell_type": "code",
   "execution_count": 74,
   "id": "aabe5257",
   "metadata": {},
   "outputs": [
    {
     "data": {
      "text/plain": [
       "array([[ 8,  9, 10],\n",
       "       [13, 14, 15],\n",
       "       [18, 19, 20],\n",
       "       [23, 24, 25]])"
      ]
     },
     "execution_count": 74,
     "metadata": {},
     "output_type": "execute_result"
    }
   ],
   "source": [
    "arr[1:,2:]"
   ]
  },
  {
   "cell_type": "code",
   "execution_count": 75,
   "id": "e2460951",
   "metadata": {},
   "outputs": [
    {
     "data": {
      "text/plain": [
       "array([[20]])"
      ]
     },
     "execution_count": 75,
     "metadata": {},
     "output_type": "execute_result"
    }
   ],
   "source": [
    "arr[3:4,-1:]"
   ]
  },
  {
   "cell_type": "code",
   "execution_count": 76,
   "id": "a9126092",
   "metadata": {},
   "outputs": [
    {
     "data": {
      "text/plain": [
       "array([[ 2],\n",
       "       [ 7],\n",
       "       [12]])"
      ]
     },
     "execution_count": 76,
     "metadata": {},
     "output_type": "execute_result"
    }
   ],
   "source": [
    "arr[0:3,1:2]"
   ]
  },
  {
   "cell_type": "code",
   "execution_count": 77,
   "id": "6fc8dc12",
   "metadata": {},
   "outputs": [
    {
     "data": {
      "text/plain": [
       "array([14])"
      ]
     },
     "execution_count": 77,
     "metadata": {},
     "output_type": "execute_result"
    }
   ],
   "source": [
    "arr[2:3,-2]"
   ]
  },
  {
   "cell_type": "code",
   "execution_count": 78,
   "id": "5d9da2e9",
   "metadata": {},
   "outputs": [
    {
     "data": {
      "text/plain": [
       "array([[21, 22, 23, 24, 25]])"
      ]
     },
     "execution_count": 78,
     "metadata": {},
     "output_type": "execute_result"
    }
   ],
   "source": [
    "arr[4:]"
   ]
  },
  {
   "cell_type": "code",
   "execution_count": 79,
   "id": "968e1671",
   "metadata": {},
   "outputs": [
    {
     "data": {
      "text/plain": [
       "array([[16, 17, 18, 19, 20],\n",
       "       [21, 22, 23, 24, 25]])"
      ]
     },
     "execution_count": 79,
     "metadata": {},
     "output_type": "execute_result"
    }
   ],
   "source": [
    "arr[3:]"
   ]
  },
  {
   "cell_type": "markdown",
   "id": "0aa5dc2a",
   "metadata": {},
   "source": [
    "#### Get the sum of all the values in the matrix"
   ]
  },
  {
   "cell_type": "code",
   "execution_count": 80,
   "id": "8b02fa07",
   "metadata": {},
   "outputs": [
    {
     "data": {
      "text/plain": [
       "325"
      ]
     },
     "execution_count": 80,
     "metadata": {},
     "output_type": "execute_result"
    }
   ],
   "source": [
    "arr.sum()"
   ]
  },
  {
   "cell_type": "markdown",
   "id": "3008462d",
   "metadata": {},
   "source": [
    "#### Get the standard deviation of the values in the matrix"
   ]
  },
  {
   "cell_type": "code",
   "execution_count": 81,
   "id": "26724a7e",
   "metadata": {},
   "outputs": [
    {
     "data": {
      "text/plain": [
       "7.211102550927978"
      ]
     },
     "execution_count": 81,
     "metadata": {},
     "output_type": "execute_result"
    }
   ],
   "source": [
    "arr.std()"
   ]
  },
  {
   "cell_type": "markdown",
   "id": "aaca1a72",
   "metadata": {},
   "source": [
    "#### Get the sum of all the columns in the matrix"
   ]
  },
  {
   "cell_type": "code",
   "execution_count": 82,
   "id": "1a1c6979",
   "metadata": {},
   "outputs": [
    {
     "data": {
      "text/plain": [
       "array([55, 60, 65, 70, 75])"
      ]
     },
     "execution_count": 82,
     "metadata": {},
     "output_type": "execute_result"
    }
   ],
   "source": [
    "arr.sum(axis = 0)"
   ]
  },
  {
   "cell_type": "markdown",
   "id": "b9325249",
   "metadata": {},
   "source": [
    "#### Get the sum of al the rows in the matrix"
   ]
  },
  {
   "cell_type": "code",
   "execution_count": 83,
   "id": "d88606a1",
   "metadata": {},
   "outputs": [
    {
     "data": {
      "text/plain": [
       "array([ 15,  40,  65,  90, 115])"
      ]
     },
     "execution_count": 83,
     "metadata": {},
     "output_type": "execute_result"
    }
   ],
   "source": [
    "arr.sum(axis = 1)"
   ]
  },
  {
   "cell_type": "markdown",
   "id": "6c4f5d95",
   "metadata": {},
   "source": [
    "#### 1. Create 1-D, 2-D and 3-D numpy array"
   ]
  },
  {
   "cell_type": "code",
   "execution_count": 84,
   "id": "67dcae13",
   "metadata": {},
   "outputs": [
    {
     "name": "stdout",
     "output_type": "stream",
     "text": [
      "10\n"
     ]
    }
   ],
   "source": [
    "oned = np.array(10)\n",
    "print(oned)"
   ]
  },
  {
   "cell_type": "code",
   "execution_count": 85,
   "id": "a0bfc358",
   "metadata": {},
   "outputs": [
    {
     "name": "stdout",
     "output_type": "stream",
     "text": [
      "[[0 1]\n",
      " [2 3]\n",
      " [4 5]\n",
      " [6 7]\n",
      " [8 9]]\n"
     ]
    }
   ],
   "source": [
    "twod = np.arange(10).reshape(5,2)\n",
    "print(twod)"
   ]
  },
  {
   "cell_type": "code",
   "execution_count": 86,
   "id": "25676dcc",
   "metadata": {},
   "outputs": [
    {
     "name": "stdout",
     "output_type": "stream",
     "text": [
      "[[[ 1  2]\n",
      "  [ 3  4]]\n",
      "\n",
      " [[ 5  6]\n",
      "  [ 7  8]]\n",
      "\n",
      " [[ 9 10]\n",
      "  [11 12]]]\n"
     ]
    }
   ],
   "source": [
    "threed = np.arange(1,13).reshape(3,2,2)\n",
    "print(threed)"
   ]
  },
  {
   "cell_type": "markdown",
   "id": "ec9df9b8",
   "metadata": {},
   "source": [
    "#### 2. Print datatype of an array"
   ]
  },
  {
   "cell_type": "code",
   "execution_count": 87,
   "id": "30500d71",
   "metadata": {},
   "outputs": [
    {
     "name": "stdout",
     "output_type": "stream",
     "text": [
      "int32\n",
      "int32\n",
      "int32\n"
     ]
    }
   ],
   "source": [
    "print(oned.dtype)\n",
    "print(twod.dtype)\n",
    "print(threed.dtype)"
   ]
  },
  {
   "cell_type": "markdown",
   "id": "d0ba3a9e",
   "metadata": {},
   "source": [
    "#### 3. Print shape and dimensions of all the three different array."
   ]
  },
  {
   "cell_type": "code",
   "execution_count": 88,
   "id": "9d5e08f9",
   "metadata": {},
   "outputs": [
    {
     "data": {
      "text/plain": [
       "()"
      ]
     },
     "execution_count": 88,
     "metadata": {},
     "output_type": "execute_result"
    }
   ],
   "source": [
    "oned.shape"
   ]
  },
  {
   "cell_type": "code",
   "execution_count": 89,
   "id": "381d4c12",
   "metadata": {},
   "outputs": [
    {
     "data": {
      "text/plain": [
       "0"
      ]
     },
     "execution_count": 89,
     "metadata": {},
     "output_type": "execute_result"
    }
   ],
   "source": [
    "oned.ndim"
   ]
  },
  {
   "cell_type": "code",
   "execution_count": 90,
   "id": "22027710",
   "metadata": {},
   "outputs": [
    {
     "data": {
      "text/plain": [
       "(5, 2)"
      ]
     },
     "execution_count": 90,
     "metadata": {},
     "output_type": "execute_result"
    }
   ],
   "source": [
    "twod.shape"
   ]
  },
  {
   "cell_type": "code",
   "execution_count": 91,
   "id": "5ffd6a46",
   "metadata": {},
   "outputs": [
    {
     "data": {
      "text/plain": [
       "2"
      ]
     },
     "execution_count": 91,
     "metadata": {},
     "output_type": "execute_result"
    }
   ],
   "source": [
    "twod.ndim"
   ]
  },
  {
   "cell_type": "code",
   "execution_count": 92,
   "id": "7cd07ef5",
   "metadata": {},
   "outputs": [
    {
     "data": {
      "text/plain": [
       "(3, 2, 2)"
      ]
     },
     "execution_count": 92,
     "metadata": {},
     "output_type": "execute_result"
    }
   ],
   "source": [
    "threed.shape"
   ]
  },
  {
   "cell_type": "code",
   "execution_count": 93,
   "id": "080a9c48",
   "metadata": {},
   "outputs": [
    {
     "data": {
      "text/plain": [
       "3"
      ]
     },
     "execution_count": 93,
     "metadata": {},
     "output_type": "execute_result"
    }
   ],
   "source": [
    "threed.ndim"
   ]
  },
  {
   "cell_type": "markdown",
   "id": "0d7c39d4",
   "metadata": {},
   "source": [
    "#### 4. Create a 1-D array of 12 elements filled with zero."
   ]
  },
  {
   "cell_type": "code",
   "execution_count": 94,
   "id": "21cce2eb",
   "metadata": {},
   "outputs": [
    {
     "name": "stdout",
     "output_type": "stream",
     "text": [
      "[0. 0. 0. 0. 0. 0. 0. 0. 0. 0. 0. 0.]\n"
     ]
    }
   ],
   "source": [
    "oned = np.zeros(12)\n",
    "print(oned)"
   ]
  },
  {
   "cell_type": "markdown",
   "id": "2ea152f6",
   "metadata": {},
   "source": [
    "#### 5. Create a 2-D array elements filled with ones"
   ]
  },
  {
   "cell_type": "code",
   "execution_count": 95,
   "id": "90035b96",
   "metadata": {},
   "outputs": [
    {
     "name": "stdout",
     "output_type": "stream",
     "text": [
      "[[1. 1. 1. 1.]\n",
      " [1. 1. 1. 1.]\n",
      " [1. 1. 1. 1.]]\n"
     ]
    }
   ],
   "source": [
    "twod = np.ones(12).reshape(3,4)\n",
    "print(twod)"
   ]
  },
  {
   "cell_type": "markdown",
   "id": "e0ceedb4",
   "metadata": {},
   "source": [
    "#### 6. Create a 1-D array known as Maths Mark out of 100 having 20 elements"
   ]
  },
  {
   "cell_type": "code",
   "execution_count": 96,
   "id": "737be082",
   "metadata": {},
   "outputs": [
    {
     "name": "stdout",
     "output_type": "stream",
     "text": [
      "Math marks :  [ 79  94 100  53  91  99   2  27  59  38  79  35  13  78  20  15  80  70\n",
      "  66  26]\n"
     ]
    }
   ],
   "source": [
    "Math_Mark = np.random.randint(0,101,20)\n",
    "print(\"Math marks : \",Math_Mark)"
   ]
  },
  {
   "cell_type": "markdown",
   "id": "09c62d68",
   "metadata": {},
   "source": [
    "#### 7. Sort the above array in ascending and descending order."
   ]
  },
  {
   "cell_type": "code",
   "execution_count": 97,
   "id": "cc487363",
   "metadata": {},
   "outputs": [
    {
     "name": "stdout",
     "output_type": "stream",
     "text": [
      "Ascending order :  [  2  13  15  20  26  27  35  38  53  59  66  70  78  79  79  80  91  94\n",
      "  99 100]\n",
      "Descending order : [100  99  94  91  80  79  79  78  70  66  59  53  38  35  27  26  20  15\n",
      "  13   2]\n"
     ]
    }
   ],
   "source": [
    "asc = np.sort(Math_Mark)\n",
    "dsc = np.sort(Math_Mark)[::-1]\n",
    "print(\"Ascending order : \",asc)\n",
    "print(\"Descending order :\",dsc)"
   ]
  },
  {
   "cell_type": "code",
   "execution_count": 98,
   "id": "c3024728",
   "metadata": {},
   "outputs": [
    {
     "name": "stdout",
     "output_type": "stream",
     "text": [
      "Descending order : [100  99  94  91  80  79  79  78  70  66  59  53  38  35  27  26  20  15\n",
      "  13   2]\n"
     ]
    }
   ],
   "source": [
    "print(\"Descending order :\",np.flip(asc))"
   ]
  },
  {
   "cell_type": "markdown",
   "id": "11d99170",
   "metadata": {},
   "source": [
    "#### 8. Create a copy of sorted array to another variable by deep copying."
   ]
  },
  {
   "cell_type": "code",
   "execution_count": null,
   "id": "7944c011",
   "metadata": {},
   "outputs": [],
   "source": []
  },
  {
   "cell_type": "markdown",
   "id": "0d2228a2",
   "metadata": {},
   "source": [
    "#### 9. Create a 2-D array of 5x5 which is an identity matrix and then convert it to 1-D array."
   ]
  },
  {
   "cell_type": "code",
   "execution_count": 99,
   "id": "fdc69a29",
   "metadata": {},
   "outputs": [
    {
     "name": "stdout",
     "output_type": "stream",
     "text": [
      "2-D Identity Matrix :\n",
      "[[1. 0. 0. 0. 0.]\n",
      " [0. 1. 0. 0. 0.]\n",
      " [0. 0. 1. 0. 0.]\n",
      " [0. 0. 0. 1. 0.]\n",
      " [0. 0. 0. 0. 1.]]\n",
      "1-D Identity Matrix : [1. 0. 0. 0. 0. 0. 1. 0. 0. 0. 0. 0. 1. 0. 0. 0. 0. 0. 1. 0. 0. 0. 0. 0.\n",
      " 1.]\n"
     ]
    }
   ],
   "source": [
    "twod = np.eye(5)\n",
    "oned = twod.flatten()\n",
    "print(\"2-D Identity Matrix :\")\n",
    "print(twod)\n",
    "print(\"1-D Identity Matrix :\",oned)"
   ]
  },
  {
   "cell_type": "code",
   "execution_count": 100,
   "id": "3c5a8f34",
   "metadata": {},
   "outputs": [
    {
     "name": "stdout",
     "output_type": "stream",
     "text": [
      "1-D Identity Matrix : [1. 0. 0. 0. 0. 0. 1. 0. 0. 0. 0. 0. 1. 0. 0. 0. 0. 0. 1. 0. 0. 0. 0. 0.\n",
      " 1.]\n"
     ]
    }
   ],
   "source": [
    "print(\"1-D Identity Matrix :\",twod.ravel())"
   ]
  },
  {
   "cell_type": "markdown",
   "id": "fef0c607",
   "metadata": {},
   "source": [
    "#### 10. Create 2-D array of 3x3. Add one more row to it."
   ]
  },
  {
   "cell_type": "code",
   "execution_count": 101,
   "id": "ba08a2fd",
   "metadata": {},
   "outputs": [
    {
     "name": "stdout",
     "output_type": "stream",
     "text": [
      "[[ 0  1  2]\n",
      " [ 3  4  5]\n",
      " [ 6  7  8]\n",
      " [56 66 76]]\n"
     ]
    }
   ],
   "source": [
    "twod = np.arange(9).reshape(3,3)\n",
    "new_twod = np.append(twod,[[56,66,76]],axis=0)\n",
    "print(new_twod)"
   ]
  },
  {
   "cell_type": "code",
   "execution_count": 102,
   "id": "dea98238",
   "metadata": {},
   "outputs": [
    {
     "data": {
      "text/plain": [
       "array([[ 0,  1,  2],\n",
       "       [ 3,  4,  5],\n",
       "       [ 6,  7,  8],\n",
       "       [22, 54, 67]])"
      ]
     },
     "execution_count": 102,
     "metadata": {},
     "output_type": "execute_result"
    }
   ],
   "source": [
    "oned = np.array([22,54,67])\n",
    "np.vstack((twod,oned))"
   ]
  },
  {
   "cell_type": "markdown",
   "id": "3b8b3baa",
   "metadata": {},
   "source": [
    "#### 11. Split the above array created vertically and horizontally."
   ]
  },
  {
   "cell_type": "code",
   "execution_count": 103,
   "id": "322c3f72",
   "metadata": {},
   "outputs": [
    {
     "data": {
      "text/plain": [
       "[array([[0, 1, 2]]),\n",
       " array([[3, 4, 5]]),\n",
       " array([[6, 7, 8]]),\n",
       " array([[56, 66, 76]])]"
      ]
     },
     "execution_count": 103,
     "metadata": {},
     "output_type": "execute_result"
    }
   ],
   "source": [
    "np.vsplit(new_twod,4)"
   ]
  },
  {
   "cell_type": "code",
   "execution_count": 104,
   "id": "3829df9c",
   "metadata": {},
   "outputs": [
    {
     "data": {
      "text/plain": [
       "[array([[ 0],\n",
       "        [ 3],\n",
       "        [ 6],\n",
       "        [56]]),\n",
       " array([[ 1],\n",
       "        [ 4],\n",
       "        [ 7],\n",
       "        [66]]),\n",
       " array([[ 2],\n",
       "        [ 5],\n",
       "        [ 8],\n",
       "        [76]])]"
      ]
     },
     "execution_count": 104,
     "metadata": {},
     "output_type": "execute_result"
    }
   ],
   "source": [
    "np.hsplit(new_twod,3)"
   ]
  },
  {
   "cell_type": "markdown",
   "id": "453ce595",
   "metadata": {},
   "source": [
    "#### 12. Create 4x4 identity matrix. Add 4 to each element."
   ]
  },
  {
   "cell_type": "code",
   "execution_count": 105,
   "id": "b1cc8b24",
   "metadata": {},
   "outputs": [
    {
     "name": "stdout",
     "output_type": "stream",
     "text": [
      "[[5. 4. 4. 4.]\n",
      " [4. 5. 4. 4.]\n",
      " [4. 4. 5. 4.]\n",
      " [4. 4. 4. 5.]]\n"
     ]
    }
   ],
   "source": [
    "print((np.eye(4))+4)"
   ]
  },
  {
   "cell_type": "markdown",
   "id": "a5677358",
   "metadata": {},
   "source": [
    "#### 13. Create 1-D array. Initialize with floating point values. Display its ceil, floor and round (with 2 decimal's)."
   ]
  },
  {
   "cell_type": "code",
   "execution_count": 106,
   "id": "b87a2782",
   "metadata": {},
   "outputs": [
    {
     "name": "stdout",
     "output_type": "stream",
     "text": [
      "[3.31902469 1.79416141 4.58071294 2.58488779 4.09132274]\n",
      "[4. 2. 5. 3. 5.]\n",
      "[3. 1. 4. 2. 4.]\n",
      "[3.32 1.79 4.58 2.58 4.09]\n"
     ]
    }
   ],
   "source": [
    "oned = np.random.uniform(1,5,5)\n",
    "print(oned)\n",
    "print(np.ceil(oned))\n",
    "print(np.floor(oned))\n",
    "print(np.round(oned, decimals=2))"
   ]
  },
  {
   "cell_type": "markdown",
   "id": "473b8d05",
   "metadata": {},
   "source": [
    "#### 14. Create 5x5 matrix. Display min, max, variance and standard deviation column-wise."
   ]
  },
  {
   "cell_type": "code",
   "execution_count": 107,
   "id": "581a1312",
   "metadata": {},
   "outputs": [
    {
     "name": "stdout",
     "output_type": "stream",
     "text": [
      "[[46 84 46 31 43]\n",
      " [42 77  8 65  8]\n",
      " [ 1 31 45 49 57]\n",
      " [49 29 96 43 52]\n",
      " [37  8 23 10 48]]\n",
      "Column-wise statistics.\n",
      "Minimum Values : [ 1  8  8 10  8]\n",
      "Maximum Values : [49 84 96 65 57]\n",
      "Variance : [305.2  872.56 889.04 339.04 303.44]\n",
      "Standard Deviation : [17.46997424 29.5391266  29.8167738  18.41303886 17.41952927]\n"
     ]
    }
   ],
   "source": [
    "mat = np.random.randint(1,100,(5,5))\n",
    "print(mat)\n",
    "print(\"Column-wise statistics.\")\n",
    "print(\"Minimum Values :\",np.min(mat, axis=0))\n",
    "print(\"Maximum Values :\",np.max(mat, axis=0))\n",
    "print(\"Variance :\",np.var(mat, axis=0))\n",
    "print(\"Standard Deviation :\",np.std(mat, axis=0))"
   ]
  },
  {
   "cell_type": "markdown",
   "id": "20d4912b",
   "metadata": {},
   "source": [
    "#### 15. Create a null vector of size 10 with 6 th value filled with 200."
   ]
  },
  {
   "cell_type": "code",
   "execution_count": 108,
   "id": "824088dc",
   "metadata": {},
   "outputs": [
    {
     "name": "stdout",
     "output_type": "stream",
     "text": [
      "[ nan  nan  nan  nan  nan 200.  nan  nan  nan  nan]\n"
     ]
    }
   ],
   "source": [
    "null_vector = np.empty(10)\n",
    "null_vector[0:] = 'NaN'\n",
    "null_vector[5] = 200\n",
    "print(null_vector)"
   ]
  },
  {
   "cell_type": "markdown",
   "id": "c96c3c30",
   "metadata": {},
   "source": [
    "#### 16. Create a 1-D Array/Vector with values ranging from 100 to 150 in sequence."
   ]
  },
  {
   "cell_type": "code",
   "execution_count": 109,
   "id": "8c8884dc",
   "metadata": {},
   "outputs": [
    {
     "name": "stdout",
     "output_type": "stream",
     "text": [
      "[100 101 102 103 104 105 106 107 108 109 110 111 112 113 114 115 116 117\n",
      " 118 119 120 121 122 123 124 125 126 127 128 129 130 131 132 133 134 135\n",
      " 136 137 138 139 140 141 142 143 144 145 146 147 148 149 150]\n"
     ]
    }
   ],
   "source": [
    "print(np.arange(100,151))"
   ]
  },
  {
   "cell_type": "markdown",
   "id": "2949d3b2",
   "metadata": {},
   "source": [
    "#### 17. Reverse the above vector."
   ]
  },
  {
   "cell_type": "code",
   "execution_count": 110,
   "id": "25f2b503",
   "metadata": {},
   "outputs": [
    {
     "name": "stdout",
     "output_type": "stream",
     "text": [
      "[150 149 148 147 146 145 144 143 142 141 140 139 138 137 136 135 134 133\n",
      " 132 131 130 129 128 127 126 125 124 123 122 121 120 119 118 117 116 115\n",
      " 114 113 112 111 110 109 108 107 106 105 104 103 102 101 100]\n"
     ]
    }
   ],
   "source": [
    "arr = np.arange(100,151)\n",
    "print(arr[::-1])"
   ]
  },
  {
   "cell_type": "markdown",
   "id": "f144dea2",
   "metadata": {},
   "source": [
    "#### 18. Create a 5x5 matrix with values ranging from 0-24 using some function."
   ]
  },
  {
   "cell_type": "code",
   "execution_count": 117,
   "id": "10c03adc",
   "metadata": {},
   "outputs": [
    {
     "name": "stdout",
     "output_type": "stream",
     "text": [
      "[[ 0  1  2  3  4]\n",
      " [ 5  6  7  8  9]\n",
      " [10 11 12 13 14]\n",
      " [15 16 17 18 19]\n",
      " [20 21 22 23 24]]\n"
     ]
    }
   ],
   "source": [
    "def matrix(start,end,size):\n",
    "    return np.linspace(start,end,size,dtype=int)\n",
    "mat = matrix(0,24,25).reshape(5,5)\n",
    "print(mat)"
   ]
  },
  {
   "cell_type": "markdown",
   "id": "ef501d98",
   "metadata": {},
   "source": [
    "#### 19. Find indices of non-zero elements from [1,0,2,0,0,4,0,8]"
   ]
  },
  {
   "cell_type": "code",
   "execution_count": 111,
   "id": "b8b7c8fe",
   "metadata": {},
   "outputs": [
    {
     "name": "stdout",
     "output_type": "stream",
     "text": [
      "(array([0, 2, 5, 7], dtype=int64),)\n"
     ]
    }
   ],
   "source": [
    "arr = [1,0,2,0,0,4,0,8]\n",
    "print(np.nonzero(arr))"
   ]
  },
  {
   "cell_type": "markdown",
   "id": "12ee5586",
   "metadata": {},
   "source": [
    "#### 20. Create a 10x10 matrix with 1 on the borders and 0 inside."
   ]
  },
  {
   "cell_type": "code",
   "execution_count": 124,
   "id": "c557a6d8",
   "metadata": {},
   "outputs": [
    {
     "name": "stdout",
     "output_type": "stream",
     "text": [
      "[[1. 1. 1. 1. 1. 1. 1. 1. 1. 1.]\n",
      " [1. 0. 0. 0. 0. 0. 0. 0. 0. 1.]\n",
      " [1. 0. 0. 0. 0. 0. 0. 0. 0. 1.]\n",
      " [1. 0. 0. 0. 0. 0. 0. 0. 0. 1.]\n",
      " [1. 0. 0. 0. 0. 0. 0. 0. 0. 1.]\n",
      " [1. 0. 0. 0. 0. 0. 0. 0. 0. 1.]\n",
      " [1. 0. 0. 0. 0. 0. 0. 0. 0. 1.]\n",
      " [1. 0. 0. 0. 0. 0. 0. 0. 0. 1.]\n",
      " [1. 0. 0. 0. 0. 0. 0. 0. 0. 1.]\n",
      " [1. 1. 1. 1. 1. 1. 1. 1. 1. 1.]]\n"
     ]
    }
   ],
   "source": [
    "# Changing the borders\n",
    "matrix = np.zeros((10,10))\n",
    "matrix[0,:] = 1\n",
    "matrix[-1,:] = 1\n",
    "matrix[:,0] = 1\n",
    "matrix[:,-1] = 1\n",
    "print(matrix)"
   ]
  },
  {
   "cell_type": "code",
   "execution_count": 125,
   "id": "d1daf2a2",
   "metadata": {},
   "outputs": [
    {
     "name": "stdout",
     "output_type": "stream",
     "text": [
      "[[1. 1. 1. 1. 1. 1. 1. 1. 1. 1.]\n",
      " [1. 0. 0. 0. 0. 0. 0. 0. 0. 1.]\n",
      " [1. 0. 0. 0. 0. 0. 0. 0. 0. 1.]\n",
      " [1. 0. 0. 0. 0. 0. 0. 0. 0. 1.]\n",
      " [1. 0. 0. 0. 0. 0. 0. 0. 0. 1.]\n",
      " [1. 0. 0. 0. 0. 0. 0. 0. 0. 1.]\n",
      " [1. 0. 0. 0. 0. 0. 0. 0. 0. 1.]\n",
      " [1. 0. 0. 0. 0. 0. 0. 0. 0. 1.]\n",
      " [1. 0. 0. 0. 0. 0. 0. 0. 0. 1.]\n",
      " [1. 1. 1. 1. 1. 1. 1. 1. 1. 1.]]\n"
     ]
    }
   ],
   "source": [
    "# Changing the inside of the border.\n",
    "matrix = np.ones((10,10))\n",
    "matrix[1:-1, 1:-1] = 0\n",
    "print(matrix)"
   ]
  },
  {
   "cell_type": "markdown",
   "id": "298a19c9",
   "metadata": {},
   "source": [
    "#### 21. Create 8x8 matrix and fill with 1 and 0 in chessboard pattern."
   ]
  },
  {
   "cell_type": "code",
   "execution_count": 134,
   "id": "29b77b9f",
   "metadata": {},
   "outputs": [
    {
     "name": "stdout",
     "output_type": "stream",
     "text": [
      "[[1 0 1 0 1 0 1 0]\n",
      " [0 1 0 1 0 1 0 1]\n",
      " [1 0 1 0 1 0 1 0]\n",
      " [0 1 0 1 0 1 0 1]\n",
      " [1 0 1 0 1 0 1 0]\n",
      " [0 1 0 1 0 1 0 1]\n",
      " [1 0 1 0 1 0 1 0]\n",
      " [0 1 0 1 0 1 0 1]]\n"
     ]
    }
   ],
   "source": [
    "matrix = np.zeros((8, 8), dtype=int)\n",
    "for i in range(8):\n",
    "    for j in range(8):\n",
    "        if (i + j) % 2 == 0:\n",
    "            matrix[i, j] = 1\n",
    "print(matrix)"
   ]
  },
  {
   "cell_type": "code",
   "execution_count": 120,
   "id": "19c69a3d",
   "metadata": {},
   "outputs": [
    {
     "data": {
      "text/plain": [
       "array([[0, 1, 0, 1, 0, 1, 0, 1],\n",
       "       [1, 0, 1, 0, 1, 0, 1, 0],\n",
       "       [0, 1, 0, 1, 0, 1, 0, 1],\n",
       "       [1, 0, 1, 0, 1, 0, 1, 0],\n",
       "       [0, 1, 0, 1, 0, 1, 0, 1],\n",
       "       [1, 0, 1, 0, 1, 0, 1, 0],\n",
       "       [0, 1, 0, 1, 0, 1, 0, 1],\n",
       "       [1, 0, 1, 0, 1, 0, 1, 0]], dtype=int32)"
      ]
     },
     "execution_count": 120,
     "metadata": {},
     "output_type": "execute_result"
    }
   ],
   "source": [
    "def chess(shape):\n",
    "    return np.indices(shape).sum(axis=0) % 2\n",
    "chess((8,8))"
   ]
  },
  {
   "cell_type": "markdown",
   "id": "143a0ac5",
   "metadata": {},
   "source": [
    "#### 22. Create two 3x3 matrix with random integer values. Perform matrix addition, multiplication and subtraction."
   ]
  },
  {
   "cell_type": "code",
   "execution_count": 137,
   "id": "3fe8d4aa",
   "metadata": {},
   "outputs": [
    {
     "name": "stdout",
     "output_type": "stream",
     "text": [
      "Matrix A is :\n",
      " [[37  8 41]\n",
      " [55 67 74]\n",
      " [10 95 67]]\n",
      "Matrix B is :\n",
      " [[42 10 32]\n",
      " [38 16 33]\n",
      " [27 89 92]]\n",
      "The sum of the matrix A and B is :\n",
      " [[ 79  18  73]\n",
      " [ 93  83 107]\n",
      " [ 37 184 159]]\n",
      "The difference between matrix A and B is :\n",
      " [[ -5  -2   9]\n",
      " [ 17  51  41]\n",
      " [-17   6 -25]]\n",
      "The difference between matrix B and A is :\n",
      " [[  5   2  -9]\n",
      " [-17 -51 -41]\n",
      " [ 17  -6  25]]\n",
      "The product of matrix A and B is :\n",
      " [[ 2965  4147  5220]\n",
      " [ 6854  8208 10779]\n",
      " [ 5839  7583  9619]]\n",
      "The product of matrix A and B is :\n",
      " [[ 2965  4147  5220]\n",
      " [ 6854  8208 10779]\n",
      " [ 5839  7583  9619]]\n"
     ]
    }
   ],
   "source": [
    "mat_1 = np.random.randint(1,100,(3,3))\n",
    "mat_2 = np.random.randint(1,100,(3,3))\n",
    "print(\"Matrix A is :\\n\",mat_1)\n",
    "print(\"Matrix B is :\\n\",mat_2)\n",
    "print(\"The sum of the matrix A and B is :\\n\",(mat_1+mat_2))\n",
    "print(\"The difference between matrix A and B is :\\n\",(mat_1-mat_2))\n",
    "print(\"The difference between matrix B and A is :\\n\",(mat_2-mat_1))\n",
    "print(\"The product of matrix A and B is :\\n\",(np.dot(mat_1,mat_2)))\n",
    "print(\"The product of matrix A and B is :\\n\",(mat_1@mat_2))"
   ]
  },
  {
   "cell_type": "markdown",
   "id": "7859f317",
   "metadata": {},
   "source": [
    "### Question: Use where()"
   ]
  },
  {
   "cell_type": "code",
   "execution_count": null,
   "id": "a23836e0",
   "metadata": {},
   "outputs": [],
   "source": [
    "arr = np.array([1,2,3,4,5,6,7,8,9])\n",
    "new_arr = np.where(arr % 2 == 0, arr, -1)\n",
    "print(new_arr)\n",
    "new_arr1 = np.where(arr % 2 == 1, arr, 78)\n",
    "print(new_arr1)"
   ]
  },
  {
   "cell_type": "code",
   "execution_count": null,
   "id": "76ac0dcd",
   "metadata": {},
   "outputs": [],
   "source": []
  },
  {
   "cell_type": "code",
   "execution_count": null,
   "id": "d3d48634",
   "metadata": {},
   "outputs": [],
   "source": []
  }
 ],
 "metadata": {
  "kernelspec": {
   "display_name": "Python 3 (ipykernel)",
   "language": "python",
   "name": "python3"
  },
  "language_info": {
   "codemirror_mode": {
    "name": "ipython",
    "version": 3
   },
   "file_extension": ".py",
   "mimetype": "text/x-python",
   "name": "python",
   "nbconvert_exporter": "python",
   "pygments_lexer": "ipython3",
   "version": "3.9.13"
  }
 },
 "nbformat": 4,
 "nbformat_minor": 5
}
