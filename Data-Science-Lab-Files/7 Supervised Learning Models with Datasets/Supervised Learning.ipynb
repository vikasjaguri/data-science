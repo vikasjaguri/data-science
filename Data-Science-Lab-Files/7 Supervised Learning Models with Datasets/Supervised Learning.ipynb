{
 "cells": [
  {
   "cell_type": "markdown",
   "id": "2053845a",
   "metadata": {},
   "source": [
    "# Test / Train"
   ]
  },
  {
   "cell_type": "code",
   "execution_count": 1,
   "id": "7ccdab18",
   "metadata": {},
   "outputs": [],
   "source": [
    "import numpy as np"
   ]
  },
  {
   "cell_type": "code",
   "execution_count": 2,
   "id": "803062ba",
   "metadata": {},
   "outputs": [
    {
     "data": {
      "text/plain": [
       "array([[0, 1],\n",
       "       [2, 3],\n",
       "       [4, 5],\n",
       "       [6, 7],\n",
       "       [8, 9]])"
      ]
     },
     "execution_count": 2,
     "metadata": {},
     "output_type": "execute_result"
    }
   ],
   "source": [
    "x = np.arange(10).reshape(5,2)\n",
    "x"
   ]
  },
  {
   "cell_type": "code",
   "execution_count": 3,
   "id": "e277e791",
   "metadata": {},
   "outputs": [
    {
     "data": {
      "text/plain": [
       "[0, 1, 2, 3, 4]"
      ]
     },
     "execution_count": 3,
     "metadata": {},
     "output_type": "execute_result"
    }
   ],
   "source": [
    "y = range(5)\n",
    "list(y)"
   ]
  },
  {
   "cell_type": "markdown",
   "id": "c4e251a2",
   "metadata": {},
   "source": [
    "# Importing sklearn"
   ]
  },
  {
   "cell_type": "code",
   "execution_count": 4,
   "id": "7e048bb0",
   "metadata": {},
   "outputs": [],
   "source": [
    "import pandas as pd\n",
    "\n",
    "from sklearn.model_selection import train_test_split # to split data into train and test\n",
    "from sklearn.linear_model import LinearRegression # for models and linear regression\n",
    "from sklearn import metrics"
   ]
  },
  {
   "cell_type": "code",
   "execution_count": 5,
   "id": "c3dc1827",
   "metadata": {},
   "outputs": [],
   "source": [
    "x_train, x_test, y_train, y_test = train_test_split( x , y )"
   ]
  },
  {
   "cell_type": "code",
   "execution_count": 6,
   "id": "616de4c5",
   "metadata": {},
   "outputs": [
    {
     "data": {
      "text/plain": [
       "array([[4, 5],\n",
       "       [8, 9],\n",
       "       [2, 3]])"
      ]
     },
     "execution_count": 6,
     "metadata": {},
     "output_type": "execute_result"
    }
   ],
   "source": [
    "x_train"
   ]
  },
  {
   "cell_type": "code",
   "execution_count": 7,
   "id": "833d4be3",
   "metadata": {},
   "outputs": [
    {
     "data": {
      "text/plain": [
       "[2, 4, 1]"
      ]
     },
     "execution_count": 7,
     "metadata": {},
     "output_type": "execute_result"
    }
   ],
   "source": [
    "y_train"
   ]
  },
  {
   "cell_type": "code",
   "execution_count": 8,
   "id": "6d43021e",
   "metadata": {},
   "outputs": [],
   "source": [
    "model = LinearRegression()"
   ]
  },
  {
   "cell_type": "code",
   "execution_count": 9,
   "id": "6fdf91cc",
   "metadata": {},
   "outputs": [
    {
     "data": {
      "text/plain": [
       "LinearRegression()"
      ]
     },
     "execution_count": 9,
     "metadata": {},
     "output_type": "execute_result"
    }
   ],
   "source": [
    "model.fit(x_train, y_train)"
   ]
  },
  {
   "cell_type": "code",
   "execution_count": 10,
   "id": "14584909",
   "metadata": {},
   "outputs": [
    {
     "data": {
      "text/plain": [
       "array([ 3.0000000e+00, -4.4408921e-16])"
      ]
     },
     "execution_count": 10,
     "metadata": {},
     "output_type": "execute_result"
    }
   ],
   "source": [
    "predict = model.predict(x_test)\n",
    "predict"
   ]
  },
  {
   "cell_type": "code",
   "execution_count": 11,
   "id": "e59a7820",
   "metadata": {},
   "outputs": [
    {
     "data": {
      "text/plain": [
       "[3, 0]"
      ]
     },
     "execution_count": 11,
     "metadata": {},
     "output_type": "execute_result"
    }
   ],
   "source": [
    "y_test"
   ]
  },
  {
   "cell_type": "code",
   "execution_count": 12,
   "id": "3e5257ae",
   "metadata": {},
   "outputs": [
    {
     "data": {
      "text/plain": [
       "2.220446049250313e-16"
      ]
     },
     "execution_count": 12,
     "metadata": {},
     "output_type": "execute_result"
    }
   ],
   "source": [
    "metrics.mean_absolute_error(y_test, predict)"
   ]
  },
  {
   "cell_type": "markdown",
   "id": "5570e173",
   "metadata": {},
   "source": [
    "# Housing Data"
   ]
  },
  {
   "cell_type": "code",
   "execution_count": 13,
   "id": "6adc05d7",
   "metadata": {},
   "outputs": [
    {
     "data": {
      "text/html": [
       "<div>\n",
       "<style scoped>\n",
       "    .dataframe tbody tr th:only-of-type {\n",
       "        vertical-align: middle;\n",
       "    }\n",
       "\n",
       "    .dataframe tbody tr th {\n",
       "        vertical-align: top;\n",
       "    }\n",
       "\n",
       "    .dataframe thead th {\n",
       "        text-align: right;\n",
       "    }\n",
       "</style>\n",
       "<table border=\"1\" class=\"dataframe\">\n",
       "  <thead>\n",
       "    <tr style=\"text-align: right;\">\n",
       "      <th></th>\n",
       "      <th>Avg. Area Income</th>\n",
       "      <th>Avg. Area House Age</th>\n",
       "      <th>Avg. Area Number of Rooms</th>\n",
       "      <th>Avg. Area Number of Bedrooms</th>\n",
       "      <th>Area Population</th>\n",
       "      <th>Price</th>\n",
       "    </tr>\n",
       "  </thead>\n",
       "  <tbody>\n",
       "    <tr>\n",
       "      <th>count</th>\n",
       "      <td>5000.000000</td>\n",
       "      <td>5000.000000</td>\n",
       "      <td>5000.000000</td>\n",
       "      <td>5000.000000</td>\n",
       "      <td>5000.000000</td>\n",
       "      <td>5.000000e+03</td>\n",
       "    </tr>\n",
       "    <tr>\n",
       "      <th>mean</th>\n",
       "      <td>68583.108984</td>\n",
       "      <td>5.977222</td>\n",
       "      <td>6.987792</td>\n",
       "      <td>3.981330</td>\n",
       "      <td>36163.516039</td>\n",
       "      <td>1.232073e+06</td>\n",
       "    </tr>\n",
       "    <tr>\n",
       "      <th>std</th>\n",
       "      <td>10657.991214</td>\n",
       "      <td>0.991456</td>\n",
       "      <td>1.005833</td>\n",
       "      <td>1.234137</td>\n",
       "      <td>9925.650114</td>\n",
       "      <td>3.531176e+05</td>\n",
       "    </tr>\n",
       "    <tr>\n",
       "      <th>min</th>\n",
       "      <td>17796.631190</td>\n",
       "      <td>2.644304</td>\n",
       "      <td>3.236194</td>\n",
       "      <td>2.000000</td>\n",
       "      <td>172.610686</td>\n",
       "      <td>1.593866e+04</td>\n",
       "    </tr>\n",
       "    <tr>\n",
       "      <th>25%</th>\n",
       "      <td>61480.562388</td>\n",
       "      <td>5.322283</td>\n",
       "      <td>6.299250</td>\n",
       "      <td>3.140000</td>\n",
       "      <td>29403.928702</td>\n",
       "      <td>9.975771e+05</td>\n",
       "    </tr>\n",
       "    <tr>\n",
       "      <th>50%</th>\n",
       "      <td>68804.286404</td>\n",
       "      <td>5.970429</td>\n",
       "      <td>7.002902</td>\n",
       "      <td>4.050000</td>\n",
       "      <td>36199.406689</td>\n",
       "      <td>1.232669e+06</td>\n",
       "    </tr>\n",
       "    <tr>\n",
       "      <th>75%</th>\n",
       "      <td>75783.338666</td>\n",
       "      <td>6.650808</td>\n",
       "      <td>7.665871</td>\n",
       "      <td>4.490000</td>\n",
       "      <td>42861.290769</td>\n",
       "      <td>1.471210e+06</td>\n",
       "    </tr>\n",
       "    <tr>\n",
       "      <th>max</th>\n",
       "      <td>107701.748378</td>\n",
       "      <td>9.519088</td>\n",
       "      <td>10.759588</td>\n",
       "      <td>6.500000</td>\n",
       "      <td>69621.713378</td>\n",
       "      <td>2.469066e+06</td>\n",
       "    </tr>\n",
       "  </tbody>\n",
       "</table>\n",
       "</div>"
      ],
      "text/plain": [
       "       Avg. Area Income  Avg. Area House Age  Avg. Area Number of Rooms  \\\n",
       "count       5000.000000          5000.000000                5000.000000   \n",
       "mean       68583.108984             5.977222                   6.987792   \n",
       "std        10657.991214             0.991456                   1.005833   \n",
       "min        17796.631190             2.644304                   3.236194   \n",
       "25%        61480.562388             5.322283                   6.299250   \n",
       "50%        68804.286404             5.970429                   7.002902   \n",
       "75%        75783.338666             6.650808                   7.665871   \n",
       "max       107701.748378             9.519088                  10.759588   \n",
       "\n",
       "       Avg. Area Number of Bedrooms  Area Population         Price  \n",
       "count                   5000.000000      5000.000000  5.000000e+03  \n",
       "mean                       3.981330     36163.516039  1.232073e+06  \n",
       "std                        1.234137      9925.650114  3.531176e+05  \n",
       "min                        2.000000       172.610686  1.593866e+04  \n",
       "25%                        3.140000     29403.928702  9.975771e+05  \n",
       "50%                        4.050000     36199.406689  1.232669e+06  \n",
       "75%                        4.490000     42861.290769  1.471210e+06  \n",
       "max                        6.500000     69621.713378  2.469066e+06  "
      ]
     },
     "execution_count": 13,
     "metadata": {},
     "output_type": "execute_result"
    }
   ],
   "source": [
    "data = pd.read_csv('USA_Housing.csv')\n",
    "data.describe()"
   ]
  },
  {
   "cell_type": "code",
   "execution_count": 14,
   "id": "a3bf20de",
   "metadata": {},
   "outputs": [
    {
     "data": {
      "text/plain": [
       "0       1059034.0\n",
       "1       1505891.0\n",
       "2       1058988.0\n",
       "3       1260617.0\n",
       "4        630943.0\n",
       "          ...    \n",
       "4995    1060194.0\n",
       "4996    1482618.0\n",
       "4997    1030730.0\n",
       "4998    1198657.0\n",
       "4999    1298950.0\n",
       "Name: Price, Length: 5000, dtype: float64"
      ]
     },
     "execution_count": 14,
     "metadata": {},
     "output_type": "execute_result"
    }
   ],
   "source": [
    "data['Price'].round()"
   ]
  },
  {
   "cell_type": "code",
   "execution_count": 15,
   "id": "501d188a",
   "metadata": {},
   "outputs": [
    {
     "name": "stdout",
     "output_type": "stream",
     "text": [
      "<class 'pandas.core.frame.DataFrame'>\n",
      "RangeIndex: 5000 entries, 0 to 4999\n",
      "Data columns (total 7 columns):\n",
      " #   Column                        Non-Null Count  Dtype  \n",
      "---  ------                        --------------  -----  \n",
      " 0   Avg. Area Income              5000 non-null   float64\n",
      " 1   Avg. Area House Age           5000 non-null   float64\n",
      " 2   Avg. Area Number of Rooms     5000 non-null   float64\n",
      " 3   Avg. Area Number of Bedrooms  5000 non-null   float64\n",
      " 4   Area Population               5000 non-null   float64\n",
      " 5   Price                         5000 non-null   float64\n",
      " 6   Address                       5000 non-null   object \n",
      "dtypes: float64(6), object(1)\n",
      "memory usage: 273.6+ KB\n"
     ]
    }
   ],
   "source": [
    "data.info()"
   ]
  },
  {
   "cell_type": "markdown",
   "id": "e7704156",
   "metadata": {},
   "source": [
    "# Dividing the Dataset"
   ]
  },
  {
   "cell_type": "code",
   "execution_count": 16,
   "id": "9662dfc7",
   "metadata": {},
   "outputs": [],
   "source": [
    "x = data[['Avg. Area Income', 'Avg. Area House Age', 'Avg. Area Number of Rooms', 'Avg. Area Number of Bedrooms', 'Area Population']]\n",
    "y = data[['Price']]"
   ]
  },
  {
   "cell_type": "markdown",
   "id": "78112499",
   "metadata": {},
   "source": [
    "# Splitting the data"
   ]
  },
  {
   "cell_type": "code",
   "execution_count": 20,
   "id": "5c72f01c",
   "metadata": {},
   "outputs": [
    {
     "data": {
      "text/html": [
       "<div>\n",
       "<style scoped>\n",
       "    .dataframe tbody tr th:only-of-type {\n",
       "        vertical-align: middle;\n",
       "    }\n",
       "\n",
       "    .dataframe tbody tr th {\n",
       "        vertical-align: top;\n",
       "    }\n",
       "\n",
       "    .dataframe thead th {\n",
       "        text-align: right;\n",
       "    }\n",
       "</style>\n",
       "<table border=\"1\" class=\"dataframe\">\n",
       "  <thead>\n",
       "    <tr style=\"text-align: right;\">\n",
       "      <th></th>\n",
       "      <th>Avg. Area Income</th>\n",
       "      <th>Avg. Area House Age</th>\n",
       "      <th>Avg. Area Number of Rooms</th>\n",
       "      <th>Avg. Area Number of Bedrooms</th>\n",
       "      <th>Area Population</th>\n",
       "    </tr>\n",
       "  </thead>\n",
       "  <tbody>\n",
       "    <tr>\n",
       "      <th>3453</th>\n",
       "      <td>57852.033310</td>\n",
       "      <td>5.690224</td>\n",
       "      <td>7.287616</td>\n",
       "      <td>6.18</td>\n",
       "      <td>42688.461344</td>\n",
       "    </tr>\n",
       "    <tr>\n",
       "      <th>2166</th>\n",
       "      <td>65013.212446</td>\n",
       "      <td>7.321305</td>\n",
       "      <td>7.591328</td>\n",
       "      <td>3.13</td>\n",
       "      <td>23039.889474</td>\n",
       "    </tr>\n",
       "    <tr>\n",
       "      <th>1933</th>\n",
       "      <td>62128.784932</td>\n",
       "      <td>6.598323</td>\n",
       "      <td>7.969452</td>\n",
       "      <td>6.45</td>\n",
       "      <td>37889.761391</td>\n",
       "    </tr>\n",
       "    <tr>\n",
       "      <th>4644</th>\n",
       "      <td>60883.536887</td>\n",
       "      <td>6.281292</td>\n",
       "      <td>6.408819</td>\n",
       "      <td>2.37</td>\n",
       "      <td>31135.056781</td>\n",
       "    </tr>\n",
       "    <tr>\n",
       "      <th>2690</th>\n",
       "      <td>82943.889067</td>\n",
       "      <td>6.021106</td>\n",
       "      <td>6.278453</td>\n",
       "      <td>4.25</td>\n",
       "      <td>50524.736738</td>\n",
       "    </tr>\n",
       "    <tr>\n",
       "      <th>...</th>\n",
       "      <td>...</td>\n",
       "      <td>...</td>\n",
       "      <td>...</td>\n",
       "      <td>...</td>\n",
       "      <td>...</td>\n",
       "    </tr>\n",
       "    <tr>\n",
       "      <th>3550</th>\n",
       "      <td>76416.905353</td>\n",
       "      <td>4.652848</td>\n",
       "      <td>7.383606</td>\n",
       "      <td>4.46</td>\n",
       "      <td>49032.665856</td>\n",
       "    </tr>\n",
       "    <tr>\n",
       "      <th>51</th>\n",
       "      <td>49408.198340</td>\n",
       "      <td>5.825920</td>\n",
       "      <td>5.831739</td>\n",
       "      <td>3.32</td>\n",
       "      <td>26881.130598</td>\n",
       "    </tr>\n",
       "    <tr>\n",
       "      <th>4405</th>\n",
       "      <td>77089.653662</td>\n",
       "      <td>6.122816</td>\n",
       "      <td>6.265592</td>\n",
       "      <td>4.38</td>\n",
       "      <td>46740.886718</td>\n",
       "    </tr>\n",
       "    <tr>\n",
       "      <th>3831</th>\n",
       "      <td>64644.898809</td>\n",
       "      <td>3.232059</td>\n",
       "      <td>6.518794</td>\n",
       "      <td>2.13</td>\n",
       "      <td>45329.508837</td>\n",
       "    </tr>\n",
       "    <tr>\n",
       "      <th>393</th>\n",
       "      <td>80597.111801</td>\n",
       "      <td>6.440796</td>\n",
       "      <td>7.661280</td>\n",
       "      <td>3.10</td>\n",
       "      <td>34487.574762</td>\n",
       "    </tr>\n",
       "  </tbody>\n",
       "</table>\n",
       "<p>3750 rows × 5 columns</p>\n",
       "</div>"
      ],
      "text/plain": [
       "      Avg. Area Income  Avg. Area House Age  Avg. Area Number of Rooms  \\\n",
       "3453      57852.033310             5.690224                   7.287616   \n",
       "2166      65013.212446             7.321305                   7.591328   \n",
       "1933      62128.784932             6.598323                   7.969452   \n",
       "4644      60883.536887             6.281292                   6.408819   \n",
       "2690      82943.889067             6.021106                   6.278453   \n",
       "...                ...                  ...                        ...   \n",
       "3550      76416.905353             4.652848                   7.383606   \n",
       "51        49408.198340             5.825920                   5.831739   \n",
       "4405      77089.653662             6.122816                   6.265592   \n",
       "3831      64644.898809             3.232059                   6.518794   \n",
       "393       80597.111801             6.440796                   7.661280   \n",
       "\n",
       "      Avg. Area Number of Bedrooms  Area Population  \n",
       "3453                          6.18     42688.461344  \n",
       "2166                          3.13     23039.889474  \n",
       "1933                          6.45     37889.761391  \n",
       "4644                          2.37     31135.056781  \n",
       "2690                          4.25     50524.736738  \n",
       "...                            ...              ...  \n",
       "3550                          4.46     49032.665856  \n",
       "51                            3.32     26881.130598  \n",
       "4405                          4.38     46740.886718  \n",
       "3831                          2.13     45329.508837  \n",
       "393                           3.10     34487.574762  \n",
       "\n",
       "[3750 rows x 5 columns]"
      ]
     },
     "execution_count": 20,
     "metadata": {},
     "output_type": "execute_result"
    }
   ],
   "source": [
    "x_train, x_test, y_train, y_test = train_test_split( x , y )\n",
    "x_train"
   ]
  },
  {
   "cell_type": "markdown",
   "id": "cf1e0ab1",
   "metadata": {},
   "source": [
    "# Training"
   ]
  },
  {
   "cell_type": "code",
   "execution_count": 21,
   "id": "b2745940",
   "metadata": {},
   "outputs": [],
   "source": [
    "model = LinearRegression()"
   ]
  },
  {
   "cell_type": "code",
   "execution_count": 22,
   "id": "784185a4",
   "metadata": {},
   "outputs": [
    {
     "data": {
      "text/plain": [
       "LinearRegression()"
      ]
     },
     "execution_count": 22,
     "metadata": {},
     "output_type": "execute_result"
    }
   ],
   "source": [
    "model.fit(x_train, y_train)"
   ]
  },
  {
   "cell_type": "markdown",
   "id": "42c55760",
   "metadata": {},
   "source": [
    "# Predicting\n"
   ]
  },
  {
   "cell_type": "code",
   "execution_count": 23,
   "id": "0fffdc2a",
   "metadata": {},
   "outputs": [
    {
     "data": {
      "text/plain": [
       "array([[1597217.9 ],\n",
       "       [1295921.96],\n",
       "       [1370804.09],\n",
       "       ...,\n",
       "       [1376775.95],\n",
       "       [1393994.42],\n",
       "       [ 767077.41]])"
      ]
     },
     "execution_count": 23,
     "metadata": {},
     "output_type": "execute_result"
    }
   ],
   "source": [
    "predict = model.predict(x_test)\n",
    "predict.round(2)"
   ]
  },
  {
   "cell_type": "markdown",
   "id": "b1a39abb",
   "metadata": {},
   "source": [
    "# MAE - Mean Absolute Error"
   ]
  },
  {
   "cell_type": "code",
   "execution_count": 24,
   "id": "84531da8",
   "metadata": {},
   "outputs": [
    {
     "data": {
      "text/plain": [
       "80890.9716458835"
      ]
     },
     "execution_count": 24,
     "metadata": {},
     "output_type": "execute_result"
    }
   ],
   "source": [
    "metrics.mean_absolute_error(y_test, predict)"
   ]
  },
  {
   "cell_type": "markdown",
   "id": "fd245118",
   "metadata": {},
   "source": [
    "# MSE - Mean Squared Error"
   ]
  },
  {
   "cell_type": "code",
   "execution_count": 25,
   "id": "480a604e",
   "metadata": {},
   "outputs": [
    {
     "data": {
      "text/plain": [
       "10138341331.31159"
      ]
     },
     "execution_count": 25,
     "metadata": {},
     "output_type": "execute_result"
    }
   ],
   "source": [
    "mse = metrics.mean_squared_error(y_test, predict)\n",
    "mse"
   ]
  },
  {
   "cell_type": "markdown",
   "id": "dde71db4",
   "metadata": {},
   "source": [
    "# RMSE - Root Mean Squared Error"
   ]
  },
  {
   "cell_type": "code",
   "execution_count": 26,
   "id": "9cbb51f3",
   "metadata": {},
   "outputs": [
    {
     "data": {
      "text/plain": [
       "100689.33077199188"
      ]
     },
     "execution_count": 26,
     "metadata": {},
     "output_type": "execute_result"
    }
   ],
   "source": [
    "rmse = np.sqrt(mse)\n",
    "rmse"
   ]
  },
  {
   "cell_type": "markdown",
   "id": "21e4fe2e",
   "metadata": {},
   "source": [
    "# Model Evaluvation"
   ]
  },
  {
   "cell_type": "code",
   "execution_count": 27,
   "id": "47f03185",
   "metadata": {},
   "outputs": [
    {
     "data": {
      "text/plain": [
       "array([-2641652.29833808])"
      ]
     },
     "execution_count": 27,
     "metadata": {},
     "output_type": "execute_result"
    }
   ],
   "source": [
    "model.intercept_"
   ]
  },
  {
   "cell_type": "code",
   "execution_count": 28,
   "id": "7b14a924",
   "metadata": {},
   "outputs": [
    {
     "data": {
      "text/plain": [
       "array([[2.17320581e+01, 1.64461565e+05, 1.20069334e+05, 2.22238998e+03,\n",
       "        1.52908614e+01]])"
      ]
     },
     "execution_count": 28,
     "metadata": {},
     "output_type": "execute_result"
    }
   ],
   "source": [
    "model.coef_"
   ]
  },
  {
   "cell_type": "markdown",
   "id": "eea01131",
   "metadata": {},
   "source": [
    "# Ecommerce Data"
   ]
  },
  {
   "cell_type": "code",
   "execution_count": 29,
   "id": "f4733865",
   "metadata": {},
   "outputs": [
    {
     "data": {
      "text/html": [
       "<div>\n",
       "<style scoped>\n",
       "    .dataframe tbody tr th:only-of-type {\n",
       "        vertical-align: middle;\n",
       "    }\n",
       "\n",
       "    .dataframe tbody tr th {\n",
       "        vertical-align: top;\n",
       "    }\n",
       "\n",
       "    .dataframe thead th {\n",
       "        text-align: right;\n",
       "    }\n",
       "</style>\n",
       "<table border=\"1\" class=\"dataframe\">\n",
       "  <thead>\n",
       "    <tr style=\"text-align: right;\">\n",
       "      <th></th>\n",
       "      <th>Avg. Session Length</th>\n",
       "      <th>Time on App</th>\n",
       "      <th>Time on Website</th>\n",
       "      <th>Length of Membership</th>\n",
       "      <th>Yearly Amount Spent</th>\n",
       "    </tr>\n",
       "  </thead>\n",
       "  <tbody>\n",
       "    <tr>\n",
       "      <th>count</th>\n",
       "      <td>500.000000</td>\n",
       "      <td>500.000000</td>\n",
       "      <td>500.000000</td>\n",
       "      <td>500.000000</td>\n",
       "      <td>500.000000</td>\n",
       "    </tr>\n",
       "    <tr>\n",
       "      <th>mean</th>\n",
       "      <td>33.053194</td>\n",
       "      <td>12.052488</td>\n",
       "      <td>37.060445</td>\n",
       "      <td>3.533462</td>\n",
       "      <td>499.314038</td>\n",
       "    </tr>\n",
       "    <tr>\n",
       "      <th>std</th>\n",
       "      <td>0.992563</td>\n",
       "      <td>0.994216</td>\n",
       "      <td>1.010489</td>\n",
       "      <td>0.999278</td>\n",
       "      <td>79.314782</td>\n",
       "    </tr>\n",
       "    <tr>\n",
       "      <th>min</th>\n",
       "      <td>29.532429</td>\n",
       "      <td>8.508152</td>\n",
       "      <td>33.913847</td>\n",
       "      <td>0.269901</td>\n",
       "      <td>256.670582</td>\n",
       "    </tr>\n",
       "    <tr>\n",
       "      <th>25%</th>\n",
       "      <td>32.341822</td>\n",
       "      <td>11.388153</td>\n",
       "      <td>36.349257</td>\n",
       "      <td>2.930450</td>\n",
       "      <td>445.038277</td>\n",
       "    </tr>\n",
       "    <tr>\n",
       "      <th>50%</th>\n",
       "      <td>33.082008</td>\n",
       "      <td>11.983231</td>\n",
       "      <td>37.069367</td>\n",
       "      <td>3.533975</td>\n",
       "      <td>498.887875</td>\n",
       "    </tr>\n",
       "    <tr>\n",
       "      <th>75%</th>\n",
       "      <td>33.711985</td>\n",
       "      <td>12.753850</td>\n",
       "      <td>37.716432</td>\n",
       "      <td>4.126502</td>\n",
       "      <td>549.313828</td>\n",
       "    </tr>\n",
       "    <tr>\n",
       "      <th>max</th>\n",
       "      <td>36.139662</td>\n",
       "      <td>15.126994</td>\n",
       "      <td>40.005182</td>\n",
       "      <td>6.922689</td>\n",
       "      <td>765.518462</td>\n",
       "    </tr>\n",
       "  </tbody>\n",
       "</table>\n",
       "</div>"
      ],
      "text/plain": [
       "       Avg. Session Length  Time on App  Time on Website  \\\n",
       "count           500.000000   500.000000       500.000000   \n",
       "mean             33.053194    12.052488        37.060445   \n",
       "std               0.992563     0.994216         1.010489   \n",
       "min              29.532429     8.508152        33.913847   \n",
       "25%              32.341822    11.388153        36.349257   \n",
       "50%              33.082008    11.983231        37.069367   \n",
       "75%              33.711985    12.753850        37.716432   \n",
       "max              36.139662    15.126994        40.005182   \n",
       "\n",
       "       Length of Membership  Yearly Amount Spent  \n",
       "count            500.000000           500.000000  \n",
       "mean               3.533462           499.314038  \n",
       "std                0.999278            79.314782  \n",
       "min                0.269901           256.670582  \n",
       "25%                2.930450           445.038277  \n",
       "50%                3.533975           498.887875  \n",
       "75%                4.126502           549.313828  \n",
       "max                6.922689           765.518462  "
      ]
     },
     "execution_count": 29,
     "metadata": {},
     "output_type": "execute_result"
    }
   ],
   "source": [
    "data = pd.read_csv('Ecommerce Customers')\n",
    "data.describe()"
   ]
  },
  {
   "cell_type": "code",
   "execution_count": 30,
   "id": "d4437eda",
   "metadata": {},
   "outputs": [
    {
     "data": {
      "text/plain": [
       "Index(['Email', 'Address', 'Avatar', 'Avg. Session Length', 'Time on App',\n",
       "       'Time on Website', 'Length of Membership', 'Yearly Amount Spent'],\n",
       "      dtype='object')"
      ]
     },
     "execution_count": 30,
     "metadata": {},
     "output_type": "execute_result"
    }
   ],
   "source": [
    "data.columns"
   ]
  },
  {
   "cell_type": "markdown",
   "id": "d7346cf2",
   "metadata": {},
   "source": [
    "# Dividing the Dataset"
   ]
  },
  {
   "cell_type": "code",
   "execution_count": 31,
   "id": "1e5ef501",
   "metadata": {},
   "outputs": [],
   "source": [
    "x = data[['Avg. Session Length', 'Time on App',\n",
    "       'Time on Website', 'Length of Membership']]\n",
    "y = data[['Yearly Amount Spent']]"
   ]
  },
  {
   "cell_type": "markdown",
   "id": "0b1e29b2",
   "metadata": {},
   "source": [
    "# Splitting the Data"
   ]
  },
  {
   "cell_type": "code",
   "execution_count": 32,
   "id": "6d2ce16b",
   "metadata": {},
   "outputs": [
    {
     "data": {
      "text/html": [
       "<div>\n",
       "<style scoped>\n",
       "    .dataframe tbody tr th:only-of-type {\n",
       "        vertical-align: middle;\n",
       "    }\n",
       "\n",
       "    .dataframe tbody tr th {\n",
       "        vertical-align: top;\n",
       "    }\n",
       "\n",
       "    .dataframe thead th {\n",
       "        text-align: right;\n",
       "    }\n",
       "</style>\n",
       "<table border=\"1\" class=\"dataframe\">\n",
       "  <thead>\n",
       "    <tr style=\"text-align: right;\">\n",
       "      <th></th>\n",
       "      <th>Avg. Session Length</th>\n",
       "      <th>Time on App</th>\n",
       "      <th>Time on Website</th>\n",
       "      <th>Length of Membership</th>\n",
       "    </tr>\n",
       "  </thead>\n",
       "  <tbody>\n",
       "    <tr>\n",
       "      <th>210</th>\n",
       "      <td>31.765619</td>\n",
       "      <td>12.442617</td>\n",
       "      <td>38.131712</td>\n",
       "      <td>3.850280</td>\n",
       "    </tr>\n",
       "    <tr>\n",
       "      <th>139</th>\n",
       "      <td>31.954904</td>\n",
       "      <td>10.963132</td>\n",
       "      <td>37.327283</td>\n",
       "      <td>3.578634</td>\n",
       "    </tr>\n",
       "    <tr>\n",
       "      <th>419</th>\n",
       "      <td>33.717555</td>\n",
       "      <td>10.806966</td>\n",
       "      <td>36.012317</td>\n",
       "      <td>3.701229</td>\n",
       "    </tr>\n",
       "    <tr>\n",
       "      <th>401</th>\n",
       "      <td>33.247322</td>\n",
       "      <td>11.956426</td>\n",
       "      <td>36.517346</td>\n",
       "      <td>3.451751</td>\n",
       "    </tr>\n",
       "    <tr>\n",
       "      <th>405</th>\n",
       "      <td>33.441553</td>\n",
       "      <td>11.235969</td>\n",
       "      <td>37.052616</td>\n",
       "      <td>3.904479</td>\n",
       "    </tr>\n",
       "    <tr>\n",
       "      <th>...</th>\n",
       "      <td>...</td>\n",
       "      <td>...</td>\n",
       "      <td>...</td>\n",
       "      <td>...</td>\n",
       "    </tr>\n",
       "    <tr>\n",
       "      <th>379</th>\n",
       "      <td>33.971722</td>\n",
       "      <td>12.284467</td>\n",
       "      <td>38.295725</td>\n",
       "      <td>1.130477</td>\n",
       "    </tr>\n",
       "    <tr>\n",
       "      <th>322</th>\n",
       "      <td>33.264632</td>\n",
       "      <td>10.732131</td>\n",
       "      <td>36.145792</td>\n",
       "      <td>4.086566</td>\n",
       "    </tr>\n",
       "    <tr>\n",
       "      <th>223</th>\n",
       "      <td>34.814984</td>\n",
       "      <td>12.114945</td>\n",
       "      <td>36.288724</td>\n",
       "      <td>4.389455</td>\n",
       "    </tr>\n",
       "    <tr>\n",
       "      <th>463</th>\n",
       "      <td>31.874552</td>\n",
       "      <td>10.290351</td>\n",
       "      <td>36.929762</td>\n",
       "      <td>3.491093</td>\n",
       "    </tr>\n",
       "    <tr>\n",
       "      <th>89</th>\n",
       "      <td>32.605584</td>\n",
       "      <td>12.068816</td>\n",
       "      <td>36.105000</td>\n",
       "      <td>3.917451</td>\n",
       "    </tr>\n",
       "  </tbody>\n",
       "</table>\n",
       "<p>375 rows × 4 columns</p>\n",
       "</div>"
      ],
      "text/plain": [
       "     Avg. Session Length  Time on App  Time on Website  Length of Membership\n",
       "210            31.765619    12.442617        38.131712              3.850280\n",
       "139            31.954904    10.963132        37.327283              3.578634\n",
       "419            33.717555    10.806966        36.012317              3.701229\n",
       "401            33.247322    11.956426        36.517346              3.451751\n",
       "405            33.441553    11.235969        37.052616              3.904479\n",
       "..                   ...          ...              ...                   ...\n",
       "379            33.971722    12.284467        38.295725              1.130477\n",
       "322            33.264632    10.732131        36.145792              4.086566\n",
       "223            34.814984    12.114945        36.288724              4.389455\n",
       "463            31.874552    10.290351        36.929762              3.491093\n",
       "89             32.605584    12.068816        36.105000              3.917451\n",
       "\n",
       "[375 rows x 4 columns]"
      ]
     },
     "execution_count": 32,
     "metadata": {},
     "output_type": "execute_result"
    }
   ],
   "source": [
    "x_train, x_test, y_train, y_test = train_test_split( x , y )\n",
    "x_train"
   ]
  },
  {
   "cell_type": "markdown",
   "id": "cd512117",
   "metadata": {},
   "source": [
    "# Training"
   ]
  },
  {
   "cell_type": "code",
   "execution_count": 33,
   "id": "ab7462c1",
   "metadata": {},
   "outputs": [],
   "source": [
    "model = LinearRegression()"
   ]
  },
  {
   "cell_type": "code",
   "execution_count": 34,
   "id": "340f3b07",
   "metadata": {},
   "outputs": [
    {
     "data": {
      "text/plain": [
       "LinearRegression()"
      ]
     },
     "execution_count": 34,
     "metadata": {},
     "output_type": "execute_result"
    }
   ],
   "source": [
    "model.fit(x_train, y_train)"
   ]
  },
  {
   "cell_type": "markdown",
   "id": "b36a346f",
   "metadata": {},
   "source": [
    "# Predicting"
   ]
  },
  {
   "cell_type": "code",
   "execution_count": 35,
   "id": "c4697731",
   "metadata": {},
   "outputs": [
    {
     "data": {
      "text/plain": [
       "array([[455.7 ],\n",
       "       [487.35],\n",
       "       [554.17],\n",
       "       [621.25],\n",
       "       [509.69],\n",
       "       [518.29],\n",
       "       [554.53],\n",
       "       [505.97],\n",
       "       [523.82],\n",
       "       [287.36],\n",
       "       [641.11],\n",
       "       [535.73],\n",
       "       [574.02],\n",
       "       [453.45],\n",
       "       [449.75],\n",
       "       [555.37],\n",
       "       [487.31],\n",
       "       [458.33],\n",
       "       [643.68],\n",
       "       [584.51],\n",
       "       [499.43],\n",
       "       [494.25],\n",
       "       [598.95],\n",
       "       [578.28],\n",
       "       [370.71],\n",
       "       [435.3 ],\n",
       "       [509.39],\n",
       "       [583.52],\n",
       "       [534.83],\n",
       "       [316.7 ],\n",
       "       [431.8 ],\n",
       "       [442.36],\n",
       "       [482.18],\n",
       "       [501.9 ],\n",
       "       [501.17],\n",
       "       [463.94],\n",
       "       [551.06],\n",
       "       [515.93],\n",
       "       [601.88],\n",
       "       [516.78],\n",
       "       [490.37],\n",
       "       [544.13],\n",
       "       [528.33],\n",
       "       [528.48],\n",
       "       [502.16],\n",
       "       [461.6 ],\n",
       "       [458.16],\n",
       "       [526.11],\n",
       "       [417.2 ],\n",
       "       [525.13],\n",
       "       [611.34],\n",
       "       [543.54],\n",
       "       [548.24],\n",
       "       [410.25],\n",
       "       [508.02],\n",
       "       [478.78],\n",
       "       [513.18],\n",
       "       [461.17],\n",
       "       [444.25],\n",
       "       [425.4 ],\n",
       "       [450.1 ],\n",
       "       [380.29],\n",
       "       [522.4 ],\n",
       "       [577.27],\n",
       "       [505.19],\n",
       "       [500.94],\n",
       "       [477.47],\n",
       "       [402.09],\n",
       "       [433.15],\n",
       "       [479.89],\n",
       "       [663.66],\n",
       "       [399.08],\n",
       "       [503.74],\n",
       "       [616.2 ],\n",
       "       [481.05],\n",
       "       [473.44],\n",
       "       [599.79],\n",
       "       [593.61],\n",
       "       [635.37],\n",
       "       [534.58],\n",
       "       [431.39],\n",
       "       [279.18],\n",
       "       [553.87],\n",
       "       [408.04],\n",
       "       [646.21],\n",
       "       [548.31],\n",
       "       [465.04],\n",
       "       [340.62],\n",
       "       [473.64],\n",
       "       [426.75],\n",
       "       [502.36],\n",
       "       [599.62],\n",
       "       [570.12],\n",
       "       [412.51],\n",
       "       [595.57],\n",
       "       [684.32],\n",
       "       [337.11],\n",
       "       [462.39],\n",
       "       [409.26],\n",
       "       [755.54],\n",
       "       [402.76],\n",
       "       [487.78],\n",
       "       [325.45],\n",
       "       [522.42],\n",
       "       [504.57],\n",
       "       [481.15],\n",
       "       [518.68],\n",
       "       [441.88],\n",
       "       [548.79],\n",
       "       [559.13],\n",
       "       [510.89],\n",
       "       [556.13],\n",
       "       [534.87],\n",
       "       [493.75],\n",
       "       [484.85],\n",
       "       [449.54],\n",
       "       [391.54],\n",
       "       [336.77],\n",
       "       [449.94],\n",
       "       [591.11],\n",
       "       [515.51],\n",
       "       [523.53],\n",
       "       [507.37],\n",
       "       [551.56],\n",
       "       [476.35]])"
      ]
     },
     "execution_count": 35,
     "metadata": {},
     "output_type": "execute_result"
    }
   ],
   "source": [
    "predict = model.predict(x_test)\n",
    "predict.round(2)"
   ]
  },
  {
   "cell_type": "code",
   "execution_count": 36,
   "id": "e2e10095",
   "metadata": {},
   "outputs": [
    {
     "data": {
      "text/plain": [
       "7.877202490641659"
      ]
     },
     "execution_count": 36,
     "metadata": {},
     "output_type": "execute_result"
    }
   ],
   "source": [
    "metrics.mean_absolute_error(y_test, predict)"
   ]
  },
  {
   "cell_type": "code",
   "execution_count": 37,
   "id": "33fadd05",
   "metadata": {},
   "outputs": [
    {
     "data": {
      "text/plain": [
       "98.6603387555007"
      ]
     },
     "execution_count": 37,
     "metadata": {},
     "output_type": "execute_result"
    }
   ],
   "source": [
    "mse = metrics.mean_squared_error(y_test, predict)\n",
    "mse"
   ]
  },
  {
   "cell_type": "code",
   "execution_count": 38,
   "id": "f81b3098",
   "metadata": {},
   "outputs": [
    {
     "data": {
      "text/plain": [
       "9.932791085868097"
      ]
     },
     "execution_count": 38,
     "metadata": {},
     "output_type": "execute_result"
    }
   ],
   "source": [
    "rmse = np.sqrt(mse)\n",
    "rmse"
   ]
  },
  {
   "cell_type": "markdown",
   "id": "b3ad4f51",
   "metadata": {},
   "source": [
    "# Model Evaluvation"
   ]
  },
  {
   "cell_type": "code",
   "execution_count": 39,
   "id": "683d3852",
   "metadata": {},
   "outputs": [
    {
     "data": {
      "text/plain": [
       "array([-1036.13415366])"
      ]
     },
     "execution_count": 39,
     "metadata": {},
     "output_type": "execute_result"
    }
   ],
   "source": [
    "model.intercept_"
   ]
  },
  {
   "cell_type": "code",
   "execution_count": 40,
   "id": "bd1ad1ee",
   "metadata": {},
   "outputs": [
    {
     "data": {
      "text/plain": [
       "array([[2.58107738e+01, 3.83983681e+01, 1.66331069e-02, 6.20040777e+01]])"
      ]
     },
     "execution_count": 40,
     "metadata": {},
     "output_type": "execute_result"
    }
   ],
   "source": [
    "model.coef_"
   ]
  },
  {
   "cell_type": "code",
   "execution_count": null,
   "id": "c934f8aa",
   "metadata": {},
   "outputs": [],
   "source": []
  }
 ],
 "metadata": {
  "kernelspec": {
   "display_name": "Python 3 (ipykernel)",
   "language": "python",
   "name": "python3"
  },
  "language_info": {
   "codemirror_mode": {
    "name": "ipython",
    "version": 3
   },
   "file_extension": ".py",
   "mimetype": "text/x-python",
   "name": "python",
   "nbconvert_exporter": "python",
   "pygments_lexer": "ipython3",
   "version": "3.9.13"
  }
 },
 "nbformat": 4,
 "nbformat_minor": 5
}
